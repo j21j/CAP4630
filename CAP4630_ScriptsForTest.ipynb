{
  "nbformat": 4,
  "nbformat_minor": 0,
  "metadata": {
    "colab": {
      "provenance": [],
      "authorship_tag": "ABX9TyN0jA60Ad8HZPBDLx8ZldUj",
      "include_colab_link": true
    },
    "kernelspec": {
      "name": "python3",
      "display_name": "Python 3"
    },
    "language_info": {
      "name": "python"
    }
  },
  "cells": [
    {
      "cell_type": "markdown",
      "metadata": {
        "id": "view-in-github",
        "colab_type": "text"
      },
      "source": [
        "<a href=\"https://colab.research.google.com/github/j21j/CAP4630/blob/main/CAP4630_ScriptsForTest.ipynb\" target=\"_parent\"><img src=\"https://colab.research.google.com/assets/colab-badge.svg\" alt=\"Open In Colab\"/></a>"
      ]
    },
    {
      "cell_type": "markdown",
      "source": [
        "# Scripts to help for test"
      ],
      "metadata": {
        "id": "2ThfrKdcIJKt"
      }
    },
    {
      "cell_type": "code",
      "execution_count": 1,
      "metadata": {
        "colab": {
          "base_uri": "https://localhost:8080/"
        },
        "id": "nuAvdm1BIH3j",
        "outputId": "3841a568-bae5-4131-84c9-b07d36951e5c"
      },
      "outputs": [
        {
          "output_type": "stream",
          "name": "stdout",
          "text": [
            "1. Input layer activation:  0.731\n",
            "2. Output layer activation:  0.325\n",
            "3. Loss:  1.124\n",
            "4. Derivative of loss with respect to output layer activation:  0.219\n",
            "5. Derivative of output layer activation with respect to output layer linear combination:\n",
            " 0.219\n",
            "6. Derivative of output layer linear combination with respect to output layer weight:\n",
            " 0.731\n",
            "7. Derivative of loss with respect to output layer weight 2:\n",
            " 0.035\n",
            "8. Derivative of loss with respect to hidden layer activation:\n",
            " -0.197\n",
            "9. Derivative of hidden layer activation with respect to hidden layer linear combination:\n",
            " 0.197\n",
            "10. Derivative of hidden layer linear combination with respect to hidden layer weight:\n",
            " 2\n",
            "11. Derivative of loss with respect to hidden layer weight 1:\n",
            " -0.077\n"
          ]
        }
      ],
      "source": [
        "#DELETE BEFORE SUBMITTING\n",
        "import numpy as np\n",
        "\n",
        "# Helper functions\n",
        "def sigmoid(z):\n",
        "    return (1 / (1 + np.exp(-z)))\n",
        "\n",
        "def sigmoid_derivative(z):\n",
        "    return sigmoid(z) * (1 - sigmoid(z))\n",
        "\n",
        "def cross_entropy(y, y_hat):\n",
        "    return ((-y * np.log(y_hat)) - ((1 - y) * np.log(1 - y_hat)))\n",
        "\n",
        "# Given values\n",
        "x = 2 # input\n",
        "w_1 = 0.5 # input -> hidden\n",
        "w_2 = -1.0 # hidden -> output\n",
        "y = 1 # true label\n",
        "\n",
        "# Question 1 correct\n",
        "z_h = w_1 * x # input linear combination\n",
        "a_h = sigmoid(z_h) # input layer activation\n",
        "print(\"1. Input layer activation: \", round(a_h, 3))\n",
        "\n",
        "# Question 2 correct\n",
        "z_0 = w_2 * a_h # output linear combination\n",
        "y_hat = sigmoid(z_0) # output layer activation\n",
        "print(\"2. Output layer activation: \", round(y_hat, 3))\n",
        "\n",
        "# Question 3 correct\n",
        "loss = cross_entropy(y, y_hat)\n",
        "print(\"3. Loss: \", round(loss, 3))\n",
        "\n",
        "# Question 4 wrong\n",
        "dL_dy_hat = sigmoid_derivative(z_0) # derivative of loss with respect to output layer activation\n",
        "print(\"4. Derivative of loss with respect to output layer activation: \", round(dL_dy_hat, 3))\n",
        "\n",
        "# Question 5 correct\n",
        "dy_hat_dz_0 = y_hat * (1 - y_hat) # derivative of output layer activation with respect to output layer linear combination\n",
        "print(\"5. Derivative of output layer activation with respect to output layer linear combination:\\n\", round(dy_hat_dz_0, 3))\n",
        "\n",
        "# Question 6 correct\n",
        "dz_0_dw_2 = a_h # derivative of output layer linear combination with respect to output layer weight\n",
        "print(\"6. Derivative of output layer linear combination with respect to output layer weight:\\n\", round(dz_0_dw_2, 3))\n",
        "\n",
        "# Question 7 wrong\n",
        "dL_dw_2 = dL_dy_hat * dy_hat_dz_0 * dz_0_dw_2 # derivative of loss with respect to output layer weight\n",
        "print(\"7. Derivative of loss with respect to output layer weight 2:\\n\", round(dL_dw_2, 3))\n",
        "\n",
        "# Question 8 wrong\n",
        "dL_dz_0 = sigmoid_derivative(z_h) # derivative of loss with respect to output layer linear combination\n",
        "dL_da_h = dL_dz_0 * w_2 # derivative of loss with respect to hidden layer activation a_h\n",
        "print(\"8. Derivative of loss with respect to hidden layer activation:\\n\", round(dL_da_h, 3))\n",
        "\n",
        "# Question 9 correct\n",
        "da_h_dz_h = a_h * (1 - a_h) # derivative of hidden layer activation with respect to hidden layer linear combination\n",
        "print(\"9. Derivative of hidden layer activation with respect to hidden layer linear combination:\\n\", round(da_h_dz_h, 3))\n",
        "\n",
        "# Question 10 correct\n",
        "dz_h_dw_1 = x # derivative of hidden layer linear combination with respect to hidden layer weight\n",
        "print(\"10. Derivative of hidden layer linear combination with respect to hidden layer weight:\\n\", round(dz_h_dw_1, 3))\n",
        "\n",
        "# Question 11 wrong\n",
        "dL_dw_1 = dL_da_h * da_h_dz_h * dz_h_dw_1 # derivative of loss with respect to hidden layer weight\n",
        "print(\"11. Derivative of loss with respect to hidden layer weight 1:\\n\", round(dL_dw_1, 3))\n",
        "\n"
      ]
    },
    {
      "cell_type": "code",
      "source": [
        "import sympy as sp\n",
        "# partial derivative of L wrt y_hat\n",
        "L, y, y_hat = sp.symbols('L y y_hat')\n",
        "L = ((-y*sp.log(y_hat)))+(-(1-y)*sp.log(1-y_hat))\n",
        "dL_dy_hat = sp.diff(L, y_hat)\n",
        "print(\"#4 derivative\", dL_dy_hat)\n",
        "\n",
        "#for number 8: partial derivative of L wrt z\n",
        "L, y, z = sp.symbols('L y z')\n",
        "L = (-(y*sp.log(1/(1+2.718281828**-z))))+(-(1-y)*sp.log(1-(1/(1+2.718281828**-z))))\n",
        "dL_dz = sp.diff(L, z)\n",
        "print(\"#8 derivative\", dL_dz)"
      ],
      "metadata": {
        "colab": {
          "base_uri": "https://localhost:8080/"
        },
        "id": "71AD9kbEIXi8",
        "outputId": "63ad0141-96d8-4ab7-adcf-438e118fe6f3"
      },
      "execution_count": 4,
      "outputs": [
        {
          "output_type": "stream",
          "name": "stdout",
          "text": [
            "#4 derivative -y/y_hat - (y - 1)/(1 - y_hat)\n",
            "#8 derivative -0.999999999831127*y/(2.718281828**z*(1 + 2.718281828**(-z))) - 0.999999999831127*(y - 1)/(2.718281828**z*(1 + 2.718281828**(-z))**2*(1 - 1/(1 + 2.718281828**(-z))))\n"
          ]
        }
      ]
    },
    {
      "cell_type": "code",
      "source": [
        "import numpy as np\n",
        "\n",
        "def L(x, y, y_hat):\n",
        "    return (-y*np.log(y_hat))+(-(1 - y) * np.log(1 - y_hat))\n",
        "\n",
        "def partial_derivative(func, var_index, x, y, y_hat, h=1e-5):\n",
        "    # Create a list of the variables\n",
        "    vars = [x, y, y_hat]\n",
        "    vars[var_index] += h\n",
        "    return (func(*vars) - func(x, y, y_hat)) / h\n",
        "\n",
        "# Example point\n",
        "x = 1\n",
        "y = 1\n",
        "y_hat = 0.325\n",
        "\n",
        "# Calculate partial derivatives\n",
        "dL_dy_hat = partial_derivative(L, 2, x, y, y_hat)\n",
        "dL_dy = partial_derivative(L, 1, x, y, y_hat)\n",
        "\n",
        "print(\"∂L/∂z =\", dL_dy_hat)\n",
        "print(\"∂L/∂y =\", dL_dy)"
      ],
      "metadata": {
        "colab": {
          "base_uri": "https://localhost:8080/"
        },
        "id": "N1Yk4dEhI3yj",
        "outputId": "bb0fdb73-04a8-4f04-b1a1-8bc692359ac2"
      },
      "execution_count": 5,
      "outputs": [
        {
          "output_type": "stream",
          "name": "stdout",
          "text": [
            "∂L/∂z = -3.0768757406152143\n",
            "∂L/∂y = 0.7308875085376697\n"
          ]
        }
      ]
    }
  ]
}