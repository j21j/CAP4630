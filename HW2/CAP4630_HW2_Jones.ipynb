{
  "nbformat": 4,
  "nbformat_minor": 0,
  "metadata": {
    "colab": {
      "provenance": [],
      "authorship_tag": "ABX9TyOEZf3VQj+j+NZ+vgHxMPa0",
      "include_colab_link": true
    },
    "kernelspec": {
      "name": "python3",
      "display_name": "Python 3"
    },
    "language_info": {
      "name": "python"
    }
  },
  "cells": [
    {
      "cell_type": "markdown",
      "metadata": {
        "id": "view-in-github",
        "colab_type": "text"
      },
      "source": [
        "<a href=\"https://colab.research.google.com/github/j21j/CAP4630/blob/main/HW2/CAP4630_HW2_Jones.ipynb\" target=\"_parent\"><img src=\"https://colab.research.google.com/assets/colab-badge.svg\" alt=\"Open In Colab\"/></a>"
      ]
    },
    {
      "cell_type": "markdown",
      "source": [
        "# Logistic Regression Homework\n",
        "\n",
        "This is the 2nd assignment for CAP 4630 and we will implement logistic regression and apply it to two\n",
        "different datasets. \\\n",
        "You will use **\"Tasks\"** and **\"Hints\"** to finish the work. **(Total 72 Points)** \\\n",
        "You are **not** allowed to use Machine Learning libaries such as Scikit-learn and Keras.\n",
        "\n",
        "**Task Overview:**\n",
        "- Logistic Regression\n",
        "\n",
        "## 1 - Logistic Regression ##\n",
        "### 1.1 Packages\n",
        "\n",
        "Import useful packages for scientific computing and data processing.\n",
        "\n",
        "**Tasks:**\n",
        "1. Import numpy and rename it to np.\n",
        "2. Import pandas and rename it to pd.\n",
        "3. Import the pyplot function in the libraray of matplotlib and rename it to plt.\n",
        "\n",
        "References:\n",
        "- [numpy](www.numpy.org) is the fundamental package for scientific computing with Python.\n",
        "- [matplotlib](http://matplotlib.org) is a famous library to plot graphs in Python.\n",
        "\n",
        "**Attention:**\n",
        "1. After this renaming, you will use the new name to call functions. For example, **numpy** will become **np** in the following sections."
      ],
      "metadata": {
        "id": "nVopVnjtEjvl"
      }
    },
    {
      "cell_type": "code",
      "source": [
        "# Import and rename libraries here\n",
        "import numpy as np\n",
        "import pandas as pd\n",
        "import matplotlib.pyplot as plt"
      ],
      "metadata": {
        "id": "EFZPKYTIEPOP"
      },
      "execution_count": 51,
      "outputs": []
    },
    {
      "cell_type": "markdown",
      "source": [
        "### 1.2 - Data Preparation ##\n",
        "\n",
        "Prepare the data for regression task. **(15 Points)**\n",
        "\n",
        "**Tasks:**\n",
        "1. Load data for logistic regression.\n",
        "2. **Generate the SCATTER PLOT of the data**.\n",
        "\n",
        "**Hints:**\n",
        "1. The data file is \"data_logistic.csv\", which are exam scores for students.\n",
        "2. The data is organized by column: x1 (exam 1 score), x2 (exam 2 score), and label y (pass 1 or fail 0).\n",
        "3. Please use different colors for postive(label=1) and negative(label=0) data.\n",
        "4. An example of scatter plots is shown below.\n",
        "\n",
        "![](https://drive.google.com/uc?export=view&id=1CPv5s4W8SkUMa_sXCIz-NejSnFj-e1IH)"
      ],
      "metadata": {
        "id": "kHKmIQsOEzTp"
      }
    },
    {
      "cell_type": "code",
      "source": [
        "# Preprocess input data and generate plots\n",
        "url = \"https://raw.githubusercontent.com/j21j/CAP4630/refs/heads/main/HW2/data_logistic.csv\"\n",
        "df1 = pd.read_csv(url)\n",
        "\n",
        "# Separate data based on label\n",
        "positive = df1[df1['label'] == 1]\n",
        "negative = df1[df1['label'] == 0]\n",
        "\n",
        "# Create the scatter plot\n",
        "plt.scatter(positive['x1'], positive['x2'], color='black', label='Positive', marker='+')\n",
        "plt.scatter(negative['x1'], negative['x2'], color='green', label='negative', marker='o')\n",
        "\n",
        "plt.xlabel('x1')\n",
        "plt.ylabel('x2')\n",
        "plt.title('#1.2 Data Preparation')\n",
        "plt.legend()\n",
        "plt.show"
      ],
      "metadata": {
        "colab": {
          "base_uri": "https://localhost:8080/",
          "height": 642
        },
        "id": "NLgK8aerE2--",
        "outputId": "56c3152c-3596-45ab-8f59-d493f11fb3eb"
      },
      "execution_count": 52,
      "outputs": [
        {
          "output_type": "execute_result",
          "data": {
            "text/plain": [
              "<function matplotlib.pyplot.show(close=None, block=None)>"
            ],
            "text/html": [
              "<div style=\"max-width:800px; border: 1px solid var(--colab-border-color);\"><style>\n",
              "      pre.function-repr-contents {\n",
              "        overflow-x: auto;\n",
              "        padding: 8px 12px;\n",
              "        max-height: 500px;\n",
              "      }\n",
              "\n",
              "      pre.function-repr-contents.function-repr-contents-collapsed {\n",
              "        cursor: pointer;\n",
              "        max-height: 100px;\n",
              "      }\n",
              "    </style>\n",
              "    <pre style=\"white-space: initial; background:\n",
              "         var(--colab-secondary-surface-color); padding: 8px 12px;\n",
              "         border-bottom: 1px solid var(--colab-border-color);\"><b>matplotlib.pyplot.show</b><br/>def show(*args, **kwargs)</pre><pre class=\"function-repr-contents function-repr-contents-collapsed\" style=\"\"><a class=\"filepath\" style=\"display:none\" href=\"#\">/usr/local/lib/python3.10/dist-packages/matplotlib/pyplot.py</a>Display all open figures.\n",
              "\n",
              "Parameters\n",
              "----------\n",
              "block : bool, optional\n",
              "    Whether to wait for all figures to be closed before returning.\n",
              "\n",
              "    If `True` block and run the GUI main loop until all figure windows\n",
              "    are closed.\n",
              "\n",
              "    If `False` ensure that all figure windows are displayed and return\n",
              "    immediately.  In this case, you are responsible for ensuring\n",
              "    that the event loop is running to have responsive figures.\n",
              "\n",
              "    Defaults to True in non-interactive mode and to False in interactive\n",
              "    mode (see `.pyplot.isinteractive`).\n",
              "\n",
              "See Also\n",
              "--------\n",
              "ion : Enable interactive mode, which shows / updates the figure after\n",
              "      every plotting command, so that calling ``show()`` is not necessary.\n",
              "ioff : Disable interactive mode.\n",
              "savefig : Save the figure to an image file instead of showing it on screen.\n",
              "\n",
              "Notes\n",
              "-----\n",
              "**Saving figures to file and showing a window at the same time**\n",
              "\n",
              "If you want an image file as well as a user interface window, use\n",
              "`.pyplot.savefig` before `.pyplot.show`. At the end of (a blocking)\n",
              "``show()`` the figure is closed and thus unregistered from pyplot. Calling\n",
              "`.pyplot.savefig` afterwards would save a new and thus empty figure. This\n",
              "limitation of command order does not apply if the show is non-blocking or\n",
              "if you keep a reference to the figure and use `.Figure.savefig`.\n",
              "\n",
              "**Auto-show in jupyter notebooks**\n",
              "\n",
              "The jupyter backends (activated via ``%matplotlib inline``,\n",
              "``%matplotlib notebook``, or ``%matplotlib widget``), call ``show()`` at\n",
              "the end of every cell by default. Thus, you usually don&#x27;t have to call it\n",
              "explicitly there.</pre>\n",
              "      <script>\n",
              "      if (google.colab.kernel.accessAllowed && google.colab.files && google.colab.files.view) {\n",
              "        for (const element of document.querySelectorAll('.filepath')) {\n",
              "          element.style.display = 'block'\n",
              "          element.onclick = (event) => {\n",
              "            event.preventDefault();\n",
              "            event.stopPropagation();\n",
              "            google.colab.files.view(element.textContent, 401);\n",
              "          };\n",
              "        }\n",
              "      }\n",
              "      for (const element of document.querySelectorAll('.function-repr-contents')) {\n",
              "        element.onclick = (event) => {\n",
              "          event.preventDefault();\n",
              "          event.stopPropagation();\n",
              "          element.classList.toggle('function-repr-contents-collapsed');\n",
              "        };\n",
              "      }\n",
              "      </script>\n",
              "      </div>"
            ]
          },
          "metadata": {},
          "execution_count": 52
        },
        {
          "output_type": "display_data",
          "data": {
            "text/plain": [
              "<Figure size 640x480 with 1 Axes>"
            ],
            "image/png": "[encoded data removed]"
          },
          "metadata": {}
        }
      ]
    },
    {
      "cell_type": "markdown",
      "source": [
        "### 1.3 - Sigmoid function ##\n",
        "\n",
        "\n",
        "Implement sigmoid function so it can be called by the rest of your program. **(15 Points)**\n",
        "\n",
        "**Tasks:**\n",
        "1. Implement the sigmoid function (**def sigmoid(z):**).\n",
        "2. Test the sigmoid function by function **plotting** with test data (X, Y) where Y = sigmoid(X).\n",
        "\n",
        "**Hints:**  \n",
        "1. Given the class material, sigmoid function is defined as:\n",
        "$g(z) = \\frac{1}{1+e^{-z}}$.\n",
        "2. You may consider X = np.linspace(-5, 5, 1000) to plot the curve.\n",
        "3. Plot Y against X.\n",
        "4. An example of plot for validation is shown below:\n",
        "\n",
        "![](https://drive.google.com/uc?export=view&id=18j5oHdw78uVm2WwHsdIb4hwhpXDxR37S)"
      ],
      "metadata": {
        "id": "yqdjlSdtIa0A"
      }
    },
    {
      "cell_type": "code",
      "source": [
        "# 1.3 Implement sigmoid fuction here\n",
        "def sigmoid(z):\n",
        "  return 1/(1+np.exp(-z))"
      ],
      "metadata": {
        "id": "ic5RZA7fIht8"
      },
      "execution_count": 53,
      "outputs": []
    },
    {
      "cell_type": "code",
      "source": [
        "# 1.3 Plot data here\n",
        "X = np.linspace(-5, 5, 1000)\n",
        "Y=sigmoid(X)\n",
        "\n",
        "plt.plot(X, Y, color='blue')\n",
        "plt.xlabel('x')\n",
        "plt.ylabel('g(x)')\n",
        "plt.title('1.3 Sigmoid Function')\n",
        "plt.show()"
      ],
      "metadata": {
        "id": "KKj_d2CpIo-2",
        "colab": {
          "base_uri": "https://localhost:8080/",
          "height": 472
        },
        "outputId": "aaae1210-dc29-4fe0-bb25-ba7011c3b002"
      },
      "execution_count": 54,
      "outputs": [
        {
          "output_type": "display_data",
          "data": {
            "text/plain": [
              "<Figure size 640x480 with 1 Axes>"
            ],
            "image/png": "[encoded data removed]"
          },
          "metadata": {}
        }
      ]
    },
    {
      "cell_type": "markdown",
      "source": [
        "### 1.4 - Cost function and gradient ##\n",
        "\n",
        "Implement the cross entropy cost function and its gradient for logistic regression. **(20 Points)**\n",
        "\n",
        "**Tasks:**\n",
        "1. Implement the \"cal_cost\" to compute the cost.\n",
        "2. Implement the \"cal_grad\" to compute the gradients.\n",
        "3. Test \"cal_cost\" and \"cal_grad\" with initial values and print out the results.\n",
        "\n",
        "**Hint:**\n",
        "1. The cross entropy cost function (J(θ)) in logistic regression is shown below. It involves two terms, including ylog(h) and (1-y)log(1-h) where h is the function of x.\n",
        "\n",
        "![](https://drive.google.com/uc?export=view&id=1xLhlPFI4wekwuA7lFm7ebRVt0XBZk3e7)\n",
        "\n",
        "2. The gradient of the cost J(θ) is a vector of the same length as θ where the $j$th element (for $j = 0, 1, . . . , n)$ is defined below. You may do a hand calculation to justify the first order derivative with the term above.\n",
        "\n",
        "![](https://drive.google.com/uc?export=view&id=1xfA0A0xyRv2L5JZIdedAmEZxZ3DwpOCF)\n",
        "\n",
        "3. When you implement J(θ), please use eps = 1e-15 to prevent possible \"divide by 0 exception\" in second term. You may think about the reason.\n",
        "4. You may consider the below templates for two functions:\n",
        "\n",
        "    def cal_cost(theta, X, y):\n",
        "        htheta = ...\n",
        "        term1 = ...  /* matrix_multiplication(log(htheta), y)\n",
        "        term2 = ...  /* matrix_multiplication(log(1-htheta+eps), (1-y))\n",
        "        J = - 1 / m * (term1 + term2)\n",
        "        \n",
        "        return cost\n",
        "        \n",
        "    \n",
        "    def cal_grad(theta, X, y):\n",
        "        \n",
        "        htheta = ...\n",
        "        term1 = ... /* matrix_multiplication(transpose(X), (htheta - y))  //you may think about why transpose(x)\n",
        "        grad = 1 / m * term1\n",
        "    \n",
        "        return grad\n",
        "5. It involves matrix multiplication and you may consider the function of np.matmul or np.dot.   \n",
        "        \n",
        "6. Initialize the intercept term (constant term) with **ones** and the theta with **zeros**. Test the functions with these initial values. \\\n",
        "    **Expected outputs:**\\\n",
        "    Cost at initial theta : 0.6931471805599445\\\n",
        "    Gradient at inital theta : [-0.1        -10.91242026 -11.73652937]"
      ],
      "metadata": {
        "id": "4vONQsmvIxiv"
      }
    },
    {
      "cell_type": "code",
      "source": [
        "# 1.4\n",
        "# 1 Implement the \"cal_cost\" to compute the cost.\n",
        "def cal_cost(theta, X, y):\n",
        "  m = len(y) # number of training examples\n",
        "  htheta = sigmoid(np.dot(X, theta))\n",
        "\n",
        "  eps = 1e-15 # given to prevent dive by 0\n",
        "  term1 = np.dot(np.log(htheta), y)\n",
        "  term2 = np.dot(np.log(1 - htheta + eps), (1 - y))\n",
        "  cost = -1 / m * (term1 + term2)\n",
        "\n",
        "  return cost\n",
        "\n",
        "# 2) Implement the \"cal_grad\" to compute the gradients.\n",
        "def cal_grad(theta, X, y):\n",
        "    m = len(y)\n",
        "    htheta = sigmoid(np.dot(X, theta))\n",
        "\n",
        "    # og_X = np.matrix(X)\n",
        "    # transposed_X = og_X.transpose()\n",
        "    term1 = np.dot(X.T, (htheta - y))\n",
        "    grad = 1 / m * term1\n",
        "\n",
        "    return grad\n",
        "\n",
        "# 3) Test \"cal_cost\" and \"cal_grad\" with initial values and print out the results.\n",
        "X = df1[['x1', 'x2']].values\n",
        "y = df1['label'].values\n",
        "\n",
        "X = np.c_[np.ones(X.shape[0]), X]\n",
        "theta = np.zeros(X.shape[1])\n",
        "\n",
        "cost = cal_cost(theta, X, y)\n",
        "grad = cal_grad(theta, X, y)\n",
        "\n",
        "print(f\"Cost at initial theta: {cost}\")\n",
        "print(f\"Gradient at initial theta: {grad}\")"
      ],
      "metadata": {
        "id": "LW0VVIO0JQNR",
        "colab": {
          "base_uri": "https://localhost:8080/"
        },
        "outputId": "bbbbdf81-dc83-41f4-d0f1-6cf5c2cac379"
      },
      "execution_count": 77,
      "outputs": [
        {
          "output_type": "stream",
          "name": "stdout",
          "text": [
            "Cost at initial theta: 0.6931471805599445\n",
            "Gradient at initial theta: [ -0.1        -10.91242026 -11.73652937]\n"
          ]
        }
      ]
    },
    {
      "cell_type": "markdown",
      "source": [
        "## 1.5 Train parameters with Gradient Descent ##\n",
        "\n",
        "\n",
        "Train parameters using Gradient Descent. **(10 Points)**\n",
        "\n",
        "**Tasks:**\n",
        "1. Calculate best fit theta by Gradient Descent with learning rate of **0.001 (1e-3)** and epoch of **80K**. The initial theta from above blocks is used as initial values.\n",
        "2. Print out the best theta (the last one is considered as the best here) and its corresponding cost.\n",
        "3. **Plot the decision boundary**.\n",
        "\n",
        "**Hints:**\n",
        "1. You may take gradient descent in homework 1 as an template.\n",
        "2. Derive the boundary line from **sigmoid(theta[0]+ X1 * theta[1] + X2* theta[2])=0.5**. Think about why we get the line by setting **the activated probability to 0.5**. Also, try to calculate the final relationship between X1 and X2. When sigmoid(X) = 0.5, what is the value of x? Check the generated plot in 1.3.\n",
        "3. The validation of first 5 epochs (updated theta and cost): \\\n",
        "------Epoch 0------\\\n",
        "Theta: [0.0001     0.01091242 0.01173653]\\\n",
        "Cost: 0.6996118077359638\\\n",
        "------Epoch 1------\\\n",
        "Theta: [-0.0001129   0.00053949  0.00229352]\\\n",
        "Cost: 0.6649331468590681\\\n",
        "------Epoch 2------\\\n",
        "Theta: [-5.93604956e-05  8.33145873e-03  1.07754324e-02]\\\n",
        "Cost: 0.6679914364992459\\\n",
        "------Epoch 3------\\\n",
        "Theta: [-0.0002356   0.0004607   0.00370829]\\\n",
        "Cost: 0.6545873034874964\\\n",
        "------Epoch 4------\\\n",
        "Theta: [-0.00020363  0.00683227  0.01065138]\\\n",
        "Cost: 0.6563302142684528\n",
        "4. You may take the plots below as an exmample:\n",
        "\n",
        "![](https://drive.google.com/uc?export=view&id=1xLg9LrIF888gGXj3zRAG9iJLsyAmgPQg)\n",
        "\n",
        "5. It may take ~1 min to finish running."
      ],
      "metadata": {
        "id": "p5rk1i1NJYOO"
      }
    },
    {
      "cell_type": "code",
      "source": [
        "# 1.5 Gradient Descent Implementation Here\n",
        "# 1)Calculate best fit theta by Gradient Descent with learning rate of 0.001 (1e-3) and epoch of 80K.\n",
        "# The initial theta from above blocks is used as initial values.\n",
        "\n",
        "def gradient_descent(theta, X, y, learning_rate=0.001, epochs=80000):\n",
        "    m = len(y)\n",
        "    for epoch in range(epochs):\n",
        "      grad = cal_grad(theta, X, y)\n",
        "      theta = theta - learning_rate * grad\n",
        "      if epoch < 5:\n",
        "        cost = cal_cost(theta, X, y)\n",
        "        print(f\"------Epoch {epoch}------\")\n",
        "        print(f\"Theta: {theta}\")\n",
        "        print(f\"Cost: {cost}\")\n",
        "\n",
        "    return theta\n",
        "\n",
        "# 2) Print out the best theta (the last one is considered as the best here) and its corresponding cost.\n",
        "# Gradient Descent\n",
        "best_theta = gradient_descent(theta, X, y)\n",
        "best_cost = cal_cost(theta, X, y)\n",
        "print('\\n')\n",
        "print(f\"Best theta: {best_theta}\")\n",
        "print(f\"Corresponding cost: {best_cost}\")\n",
        "\n"
      ],
      "metadata": {
        "id": "25pkuljKJeuH",
        "colab": {
          "base_uri": "https://localhost:8080/"
        },
        "outputId": "10cf8d73-9c7e-42c6-e819-1def508b0970"
      },
      "execution_count": 76,
      "outputs": [
        {
          "output_type": "stream",
          "name": "stdout",
          "text": [
            "------Epoch 0------\n",
            "Theta: [0.0001     0.01091242 0.01173653]\n",
            "Cost: 0.6996118077359638\n",
            "------Epoch 1------\n",
            "Theta: [-0.0001129   0.00053949  0.00229352]\n",
            "Cost: 0.6649331468590681\n",
            "------Epoch 2------\n",
            "Theta: [-5.93604956e-05  8.33145873e-03  1.07754324e-02]\n",
            "Cost: 0.6679914364992459\n",
            "------Epoch 3------\n",
            "Theta: [-0.0002356   0.0004607   0.00370829]\n",
            "Cost: 0.6545873034874964\n",
            "------Epoch 4------\n",
            "Theta: [-0.00020363  0.00683227  0.01065138]\n",
            "Cost: 0.6563302142684528\n",
            "\n",
            "\n",
            "Best theta: [-3.88329777  0.02947987  0.03935448]\n",
            "Corresponding cost: 0.6931471805599445\n"
          ]
        }
      ]
    },
    {
      "cell_type": "code",
      "source": [
        "# 1.5 Draw Decision Boundary Here\n",
        "x_vals = np.array([min(X[:, 1]), max(X[:, 1])])\n",
        "decision_boundary = -(best_theta[0] + best_theta[1] * x_vals) / best_theta[2]\n",
        "\n",
        "# Separate data based on label\n",
        "positive = df1[df1['label'] == 1]\n",
        "negative = df1[df1['label'] == 0]\n",
        "\n",
        "# Create the scatter plot\n",
        "plt.scatter(positive['x1'], positive['x2'], color='black', label='Positive', marker='+')\n",
        "plt.scatter(negative['x1'], negative['x2'], color='green', label='negative', marker='o')\n",
        "plt.plot(x_vals, decision_boundary, label='Decision Boundary', color='blue')\n",
        "\n",
        "plt.xlabel('x1')\n",
        "plt.ylabel('x2')\n",
        "plt.title('#1.5 Decision Boundary')\n",
        "plt.legend()\n",
        "plt.show\n"
      ],
      "metadata": {
        "id": "RBeC1McCJgkH",
        "colab": {
          "base_uri": "https://localhost:8080/",
          "height": 642
        },
        "outputId": "809801d9-5494-4f0f-d825-e6ab20ea1b76"
      },
      "execution_count": 79,
      "outputs": [
        {
          "output_type": "execute_result",
          "data": {
            "text/plain": [
              "<function matplotlib.pyplot.show(close=None, block=None)>"
            ],
            "text/html": [
              "<div style=\"max-width:800px; border: 1px solid var(--colab-border-color);\"><style>\n",
              "      pre.function-repr-contents {\n",
              "        overflow-x: auto;\n",
              "        padding: 8px 12px;\n",
              "        max-height: 500px;\n",
              "      }\n",
              "\n",
              "      pre.function-repr-contents.function-repr-contents-collapsed {\n",
              "        cursor: pointer;\n",
              "        max-height: 100px;\n",
              "      }\n",
              "    </style>\n",
              "    <pre style=\"white-space: initial; background:\n",
              "         var(--colab-secondary-surface-color); padding: 8px 12px;\n",
              "         border-bottom: 1px solid var(--colab-border-color);\"><b>matplotlib.pyplot.show</b><br/>def show(*args, **kwargs)</pre><pre class=\"function-repr-contents function-repr-contents-collapsed\" style=\"\"><a class=\"filepath\" style=\"display:none\" href=\"#\">/usr/local/lib/python3.10/dist-packages/matplotlib/pyplot.py</a>Display all open figures.\n",
              "\n",
              "Parameters\n",
              "----------\n",
              "block : bool, optional\n",
              "    Whether to wait for all figures to be closed before returning.\n",
              "\n",
              "    If `True` block and run the GUI main loop until all figure windows\n",
              "    are closed.\n",
              "\n",
              "    If `False` ensure that all figure windows are displayed and return\n",
              "    immediately.  In this case, you are responsible for ensuring\n",
              "    that the event loop is running to have responsive figures.\n",
              "\n",
              "    Defaults to True in non-interactive mode and to False in interactive\n",
              "    mode (see `.pyplot.isinteractive`).\n",
              "\n",
              "See Also\n",
              "--------\n",
              "ion : Enable interactive mode, which shows / updates the figure after\n",
              "      every plotting command, so that calling ``show()`` is not necessary.\n",
              "ioff : Disable interactive mode.\n",
              "savefig : Save the figure to an image file instead of showing it on screen.\n",
              "\n",
              "Notes\n",
              "-----\n",
              "**Saving figures to file and showing a window at the same time**\n",
              "\n",
              "If you want an image file as well as a user interface window, use\n",
              "`.pyplot.savefig` before `.pyplot.show`. At the end of (a blocking)\n",
              "``show()`` the figure is closed and thus unregistered from pyplot. Calling\n",
              "`.pyplot.savefig` afterwards would save a new and thus empty figure. This\n",
              "limitation of command order does not apply if the show is non-blocking or\n",
              "if you keep a reference to the figure and use `.Figure.savefig`.\n",
              "\n",
              "**Auto-show in jupyter notebooks**\n",
              "\n",
              "The jupyter backends (activated via ``%matplotlib inline``,\n",
              "``%matplotlib notebook``, or ``%matplotlib widget``), call ``show()`` at\n",
              "the end of every cell by default. Thus, you usually don&#x27;t have to call it\n",
              "explicitly there.</pre>\n",
              "      <script>\n",
              "      if (google.colab.kernel.accessAllowed && google.colab.files && google.colab.files.view) {\n",
              "        for (const element of document.querySelectorAll('.filepath')) {\n",
              "          element.style.display = 'block'\n",
              "          element.onclick = (event) => {\n",
              "            event.preventDefault();\n",
              "            event.stopPropagation();\n",
              "            google.colab.files.view(element.textContent, 401);\n",
              "          };\n",
              "        }\n",
              "      }\n",
              "      for (const element of document.querySelectorAll('.function-repr-contents')) {\n",
              "        element.onclick = (event) => {\n",
              "          event.preventDefault();\n",
              "          event.stopPropagation();\n",
              "          element.classList.toggle('function-repr-contents-collapsed');\n",
              "        };\n",
              "      }\n",
              "      </script>\n",
              "      </div>"
            ]
          },
          "metadata": {},
          "execution_count": 79
        },
        {
          "output_type": "display_data",
          "data": {
            "text/plain": [
              "<Figure size 640x480 with 1 Axes>"
            ],
            "image/png": "[encoded data removed]"
          },
          "metadata": {}
        }
      ]
    },
    {
      "cell_type": "markdown",
      "source": [
        "### 1.6 Evaluating Logistic Regression\n",
        "\n",
        "Evaluate the model with given data. **(10 Points)**\n",
        "\n",
        "**Tasks:**\n",
        "1. Calculate the training accuracy and **PRINT IT OUT**.\n",
        "2. Evaluate the predicted probability of the learnt model with x1 = 56 and x2 = 32 and **PRINT IT OUT**.\n",
        "\n",
        "\n",
        "**Hints:**  \n",
        "1. Positive(prediction>0.5) and negative(prediction<=0.5).\n",
        "2. The prediction results are based on acceptance probability. Given the two exam scores, we expected the model yields either high probability of \"fail\" or low probability of \"pass\".\n",
        "3. Training accuracy should be around **85%**.\n"
      ],
      "metadata": {
        "id": "Pu8LzpLsJpW4"
      }
    },
    {
      "cell_type": "code",
      "source": [
        "# 1.6 Evaluate the model\n",
        "\n",
        "# # Predict using learned theta\n",
        "# def predict(theta, X):\n",
        "#   # print(f\"theta: {theta}\\nX: {X}\")\n",
        "#   # print(sigmoid(np.dot(X,theta)))\n",
        "#   return sigmoid(np.dot(X, theta))\n",
        "\n",
        "# # Calculate training accuracy and PRINT IT OUT\n",
        "# def calculate_accuracy(theta, X, y):\n",
        "#     # predictions = predict(theta, X) >= 0.5  # Get binary predictions\n",
        "#     # correct_predictions = predictions == y  # Compare with true labels\n",
        "#     # accuracy = np.mean(correct_predictions == df1['label'].values) * 100  # Calculate accuracy percentage\n",
        "#     # return accuracy\n",
        "#     htheta = predict(theta, X)\n",
        "#     predicted = (htheta > 0.5).astype(int)\n",
        "#     accuracy = np.mean(predicted == df1['label'].values) * 100  # Convert to percentage\n",
        "#     return accuracy\n",
        "\n",
        "# # Calculate predicted probability for x1=56 and x2=32 and PRINT IT OUT\n",
        "# def predict_single(theta, x1, x2):\n",
        "#     X_new = np.array([1, x1, x2]) # input vector w/ intercept as 1\n",
        "#     return predict(theta, X_new)\n",
        "\n",
        "# accuracy = calculate_accuracy(theta, X, y)\n",
        "# print(f\"Training accuracy: {accuracy:.2f}%\")\n",
        "\n",
        "# x1 = 56\n",
        "# x2 = 32\n",
        "# probability = predict_single(theta, x1, x2)\n",
        "# print(f\"Predicted probability for x1={x1} and x2={x2}: {probability:.4f}\")\n",
        "\n",
        "#-------------------------------------------------------------------------------------------------\n",
        "\n",
        "# # Evaluate the model\n",
        "# #1.\n",
        "# htheta = sigmoid(np.dot(X, theta))\n",
        "# predicted = (htheta > 0.5).astype(int)\n",
        "# accuracy = np.mean(predicted == df1['label'].values) * 100  # Convert to percentage\n",
        "# print(f\"Training accuracy: {accuracy:.2f}%\")\n",
        "\n",
        "# #2.\n",
        "# X = np.array([1, 56, 32])\n",
        "# predicted_probability = sigmoid(np.dot(X, theta))\n",
        "# print(f\"Predicted probability for x1 = 56 and x2 = 32: {predicted_probability:.4f}\")\n",
        "\n",
        "# if predicted_probability > 0.5:\n",
        "#     print(\"Prediction: positive, high probability of fail\")\n",
        "# else:\n",
        "#     print(\"Prediction: negative, low probability of pass\")\n",
        "\n",
        "#-------------------------------------------------------------------------------------------------\n",
        "\n"
      ],
      "metadata": {
        "id": "cj953EseJ9IM"
      },
      "execution_count": 74,
      "outputs": []
    }
  ]
}