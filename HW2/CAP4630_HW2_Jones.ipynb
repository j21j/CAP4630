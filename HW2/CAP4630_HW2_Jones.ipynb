{
  "nbformat": 4,
  "nbformat_minor": 0,
  "metadata": {
    "colab": {
      "provenance": [],
      "authorship_tag": "ABX9TyOCDspiGmZA+M+VrB0p4Oj6",
      "include_colab_link": true
    },
    "kernelspec": {
      "name": "python3",
      "display_name": "Python 3"
    },
    "language_info": {
      "name": "python"
    }
  },
  "cells": [
    {
      "cell_type": "markdown",
      "metadata": {
        "id": "view-in-github",
        "colab_type": "text"
      },
      "source": [
        "<a href=\"https://colab.research.google.com/github/j21j/CAP4630/blob/main/HW2/CAP4630_HW2_Jones.ipynb\" target=\"_parent\"><img src=\"https://colab.research.google.com/assets/colab-badge.svg\" alt=\"Open In Colab\"/></a>"
      ]
    },
    {
      "cell_type": "markdown",
      "source": [
        "Logistic Regression Homework\n",
        "This is the 2nd assignment for CAP 4630 and we will implement logistic regression and apply it to two different datasets.\n",
        "You will use \"Tasks\" and \"Hints\" to finish the work. (Total 72 Points)\n",
        "You are not allowed to use Machine Learning libaries such as Scikit-learn and Keras.\n",
        "\n",
        "\n",
        "**Task Overview:**\n",
        "- Logistic Regression\n",
        "\n",
        "## 1 - Logistic Regression ##\n",
        "### 1.1 Packages\n",
        "\n",
        "Import useful packages for scientific computing and data processing.\n",
        "# Logistic Regression Homework\n",
        "\n",
        "This is the 2nd assignment for CAP 4630 and we will implement logistic regression and apply it to two\n",
        "different datasets. \\\n",
        "You will use **\"Tasks\"** and **\"Hints\"** to finish the work. **(Total 72 Points)** \\\n",
        "You are **not** allowed to use Machine Learning libaries such as Scikit-learn and Keras.\n"
      ],
      "metadata": {
        "id": "cnC42G6hEMe1"
      }
    },
    {
      "cell_type": "markdown",
      "source": [
        "**Task Overview:**\n",
        "- Logistic Regression\n",
        "\n",
        "## 1 - Logistic Regression ##\n",
        "### 1.1 Packages\n",
        "\n",
        "Import useful packages for scientific computing and data processing."
      ],
      "metadata": {
        "id": "nVopVnjtEjvl"
      }
    },
    {
      "cell_type": "code",
      "source": [
        "# Import and rename libraries here\n",
        "import numpy as np\n",
        "import pandas as pd\n",
        "import matplotlib.pyplot as plt"
      ],
      "metadata": {
        "id": "EFZPKYTIEPOP"
      },
      "execution_count": 1,
      "outputs": []
    },
    {
      "cell_type": "markdown",
      "source": [
        "### 1.2 - Data Preparation ##\n",
        "\n",
        "Prepare the data for regression task. **(15 Points)**\n",
        "\n",
        "**Tasks:**\n",
        "1. Load data for logistic regression.\n",
        "2. **Generate the SCATTER PLOT of the data**.\n",
        "\n",
        "**Hints:**\n",
        "1. The data file is \"data_logistic.csv\", which are exam scores for students.\n",
        "2. The data is organized by column: x1 (exam 1 score), x2 (exam 2 score), and label y (pass 1 or fail 0).\n",
        "3. Please use different colors for postive(label=1) and negative(label=0) data.\n",
        "4. An example of scatter plots is shown below.\n",
        "\n",
        "![](https://drive.google.com/uc?export=view&id=1CPv5s4W8SkUMa_sXCIz-NejSnFj-e1IH)"
      ],
      "metadata": {
        "id": "kHKmIQsOEzTp"
      }
    },
    {
      "cell_type": "code",
      "source": [
        "# Preprocess input data and generate plots"
      ],
      "metadata": {
        "id": "NLgK8aerE2--"
      },
      "execution_count": 2,
      "outputs": []
    }
  ]
}