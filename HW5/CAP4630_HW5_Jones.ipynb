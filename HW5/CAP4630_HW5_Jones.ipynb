{
  "cells": [
    {
      "cell_type": "markdown",
      "metadata": {
        "id": "view-in-github",
        "colab_type": "text"
      },
      "source": [
        "<a href=\"https://colab.research.google.com/github/j21j/CAP4630/blob/main/HW5/CAP4630_HW5_Jones.ipynb\" target=\"_parent\"><img src=\"https://colab.research.google.com/assets/colab-badge.svg\" alt=\"Open In Colab\"/></a>"
      ]
    },
    {
      "cell_type": "markdown",
      "metadata": {
        "id": "b-rR3bJasIvX"
      },
      "source": [
        "# Reinforcement Learning\n",
        "\n",
        "## Jia Jones HW 5 CAP 4630\n",
        "\n",
        "In this homework assignment, we will train an AI-based explorer to play a game by reinforcement learing. As domestrated below, in this game, the treasure (denoted by T) is on the right-most and the explorer (denoted by o) will learn to get the treasure by moving left and right. The explorer will be rewarded when it gets the treasure.  After serveral epoches, the explorer will learn how to get the treasure faster and finally it will go to the treasure by moving to right directly. \\\n",
        "\n",
        "You will use **\"Tasks\"** and **\"Hints\"** to finish the work. **(Total 80 points, with extra 10 bonus points)** \\\n",
        "\n",
        "Episode 1, Step1: o----T   \\\n",
        "... \\\n",
        "Episode 1, Step6: ---o-T   \\\n",
        "... \\\n",
        "Episode 1, Step10: -o---T \\\n",
        "... \\\n",
        "Episode 1, Step15: ----oT (finished) \\\n",
        "\n",
        "**Task Overview:**\n",
        "- Train the explorer getting the treasure quickly through Q-learning method"
      ]
    },
    {
      "cell_type": "markdown",
      "metadata": {
        "id": "xA7CH0zasLs_"
      },
      "source": [
        "## 1 Achieve Q-learning method ##\n",
        "### 1.1 Model Preparation **(5 Points)**\n",
        "\n",
        "Import useful packages and prepare hyperpaprameters for Q-learning methods.\n",
        "\n",
        "**Tasks:**\n",
        "1. Import numpy and rename it to np.\n",
        "2. Import pandas and rename it to pd.\n",
        "3. Import the library \"time\"\n",
        "4. Set the parameter as suggested\n",
        "\n",
        "**Hints:**\n",
        "1. For your first trial, you may set as it is\n",
        "2. You may explore other possibilities here when you complete the whole homework"
      ]
    },
    {
      "cell_type": "code",
      "execution_count": 17,
      "metadata": {
        "id": "wirfzkkEsJW4"
      },
      "outputs": [],
      "source": [
        "#import packages here\n",
        "import numpy as np\n",
        "import pandas as pd\n",
        "import time\n",
        "\n",
        "N_STATES = 6   # the width of 1-dim world\n",
        "ACTIONS = ['left', 'right']     # the available actions to use\n",
        "EPSILON = 0.9   # the degree of greedy (0＜ε＜1)\n",
        "ALPHA = 0.1     # learning rate (0＜α≤1)\n",
        "GAMMA = 0.9    # discount factor (0＜γ＜1)\n",
        "MAX_EPOCHES = 13   # the max epoches\n",
        "FRESH_TIME = 0.3    # the interval time"
      ]
    },
    {
      "cell_type": "markdown",
      "metadata": {
        "id": "z0w5LxS3sRYp"
      },
      "source": [
        "### 1.2 Q table **(10 Points)**\n",
        "\n",
        "Q table is a [states * actions] matrix, which stores Q-value of taking one action in that specific state. For example, the following Q table means in state s3, it is more likely to choose a1 because it's Q-value is 5.31 which is higher than Q-value 2.33 for a0 in s3(refer to Lecture slides 16, page 35).\n",
        "![](https://drive.google.com/uc?export=view&id=1WGh7NYyYw6ccrxbDVdfbJmb_IhBfUyFf)\n",
        "\n",
        "**Tasks:**\n",
        "1. Define the build_q_table function\n",
        "2. **Print Out** defined Q-table. The correct print information should be:\n",
        "\n",
        "|     | left | right |\n",
        "|-----|------|-------|\n",
        "| 0   | 0.0  | 0.0   |\n",
        "| 1   | 0.0  | 0.0   |\n",
        "| 2   | 0.0  | 0.0   |\n",
        "| 3   | 0.0  | 0.0   |\n",
        "| 4   | 0.0  | 0.0   |\n",
        "| 5   | 0.0  | 0.0   |\n",
        "\n",
        "\n",
        "    \n",
        "\n",
        "**Hints:**\n",
        "1. Using pd.DataFrame to define the Q-table.(https://pandas.pydata.org/docs/reference/api/pandas.DataFrame.html)\n",
        "2. Initialize the Q-table with all zeros."
      ]
    },
    {
      "cell_type": "code",
      "execution_count": 18,
      "metadata": {
        "id": "TbdlOJB7sOn7",
        "colab": {
          "base_uri": "https://localhost:8080/"
        },
        "outputId": "c6d277d4-4717-4e51-ceeb-03ca41e61d55"
      },
      "outputs": [
        {
          "output_type": "stream",
          "name": "stdout",
          "text": [
            "   left  right\n",
            "0   0.0    0.0\n",
            "1   0.0    0.0\n",
            "2   0.0    0.0\n",
            "3   0.0    0.0\n",
            "4   0.0    0.0\n",
            "5   0.0    0.0\n"
          ]
        }
      ],
      "source": [
        "#define the function here\n",
        "def build_q_table(n_states, actions):\n",
        "  table = pd.DataFrame(\n",
        "    np.zeros((n_states, len(actions))),  # initialize with zeros\n",
        "    columns=actions  # set column names as actions\n",
        "  )\n",
        "  return table\n",
        "\n",
        "q_table = build_q_table(N_STATES, ACTIONS)\n",
        "print(q_table)"
      ]
    },
    {
      "cell_type": "markdown",
      "metadata": {
        "id": "OfhlKeGWsT4l"
      },
      "source": [
        "### 1.3 Define action **(15 Points)**\n",
        "\n",
        "In this section, we are going to define how an actor picks the actions. We introduce ε-greedy (In lecture slide 16, page 35). In the initial exploring stage, the explorer knows little about the environment. Therefore, it is better to explore randomly instead of greedy. ε-greedy is the value to control the degree of greedy. It can be changed with time lapsing. In this homework, we set it as fixed value EPSILON = 0.9. You can change it to explore the final effect.\n",
        "\n",
        "**Tasks:**\n",
        "1. Define the choose_action function\n",
        "2. **Print Out** sample action. The sampled action should be \"left\" or \"right\".\n",
        "\n",
        "**Hints:**\n",
        "1. You need to define two cases: 1) non-greedy (i.e., random); 2) greedy.\n",
        "2. Non-greedy should occupy (1-ε) senario while greedy should occupy ε senario. In this case, it means Non-greedy occupys 10% senario while greedy occupys 90% senario. (you could implement it by comparing a random number ranging from 0 to 1 with ε. **Numpy provides a function capable of generating a random number from a uniform distribution.**)\n",
        "3. In the non-greedy pattern, the actor should choose the actions randomly.\n",
        "4. In the greedy pattern, the actor should choose the higher Q-value action.\n",
        "5. Don't forget the initial state which means all Q-value are zero and actor cannot choose greedily. You can treat it as non-greedy pattern."
      ]
    },
    {
      "cell_type": "code",
      "execution_count": 19,
      "metadata": {
        "id": "OtPWgEtosVho",
        "colab": {
          "base_uri": "https://localhost:8080/"
        },
        "outputId": "403ec42b-9f86-4645-d501-d1d024816f9e"
      },
      "outputs": [
        {
          "output_type": "stream",
          "name": "stdout",
          "text": [
            "left\n"
          ]
        }
      ],
      "source": [
        "#define the function here\n",
        "# Given state and Q-table, choose action\n",
        "def choose_action(state, q_table):\n",
        "  # pick all actions from this state\n",
        "  if np.random.uniform(0, 1) > EPSILON or (q_table.iloc[state, :] == 0).all(): # non-greedy or non-explored\n",
        "    action_name = np.random.choice(ACTIONS)\n",
        "  else:\n",
        "    action_name = q_table.iloc[state, :].idxmax() # greedy\n",
        "  return action_name\n",
        "\n",
        "sample_action = choose_action(0, q_table)\n",
        "print(sample_action)"
      ]
    },
    {
      "cell_type": "markdown",
      "metadata": {
        "id": "tQX7PQ5tsXpt"
      },
      "source": [
        "### 1.4 Interact with the environment **(25 Points)**\n",
        "\n",
        "In this section, we need to give a feedback for our previous action, which means getting reward (R) for next state (S_next) based on current state (S_current) and action (A). In this problem, we get reward R=1 if we move to the treasure T spot, otherwise, we get R=0.\n",
        "\n",
        "**Tasks:**\n",
        "1. Define get_env_feedback function\n",
        "**Hints:**\n",
        "1. This function contains two parameters S_current and A(ction), and return S_next and R(eward).\n",
        "2. You need to consider two different senarios: 1) A = right; 2) A = left.\n",
        "3. In the above two senarios, you need to consider the boundary, next state and rewards.\n",
        "4. The update_env function is given to show changes for different steps in different episodes.\n",
        "5. The validation for S_current and Action is shown below.\n",
        "\n",
        "- S_current=0, sample_action = 'right', sample_feedback=(1,0)\n",
        "- S_current=3, sample_action = 'right', sample_feedback=(4,0)\n",
        "- S_current=4, sample_action = 'right', sample_feedback=('terminal', 1)\n",
        "- S_current=0, sample_action = 'left', sample_feedback=(0,0)\n",
        "- S_current=3, sample_action = 'left', sample_feedback=(2,0)\n",
        "- S_current=4, sample_action = 'left', sample_feedback=(3, 0)"
      ]
    },
    {
      "cell_type": "code",
      "execution_count": 27,
      "metadata": {
        "id": "qr1W3h6ksY7V",
        "colab": {
          "base_uri": "https://localhost:8080/"
        },
        "outputId": "560008db-13df-4e2d-8603-83ff06324317"
      },
      "outputs": [
        {
          "output_type": "stream",
          "name": "stdout",
          "text": [
            "(3, 0)\n"
          ]
        }
      ],
      "source": [
        "#define the function here\n",
        "def get_env_feedback(S_current, A):\n",
        "  # This is how agent will interact with the environment\n",
        "  if A == 'right':    # move right\n",
        "    if S_current == N_STATES - 2:  # If at the second-to-last state\n",
        "      S_next = 'terminal'  # Reached the treasure\n",
        "      R = 1 # Reward for reaching the treasure\n",
        "    else:\n",
        "      S_next = S_current + 1  # Move one step to the right\n",
        "      R = 0 # No reward\n",
        "  else:   # move left\n",
        "    if S_current == 0:  # If at the leftmost state\n",
        "      S_next = 0  # Can't move further left\n",
        "    else:\n",
        "      S_next = S_current - 1  # Move one step to the left\n",
        "    R = 0  # No reward for moving left\n",
        "  return S_next, R\n",
        "\n",
        "sample_action = 'left'\n",
        "S_current = 4\n",
        "sample_feedback = get_env_feedback(S_current, sample_action)\n",
        "print(sample_feedback)"
      ]
    },
    {
      "cell_type": "code",
      "execution_count": 28,
      "metadata": {
        "id": "pBkBKYpDsbxK"
      },
      "outputs": [],
      "source": [
        "def update_env(S, episode, step_counter):\n",
        "  # This is how environment be updated\n",
        "  env_list = ['-']*(N_STATES-1) + ['T']   # '---------T' our environment\n",
        "  if S == 'terminal':\n",
        "    interaction = '  Episode %s: total_steps = %s' % (episode+1, step_counter)\n",
        "    print('{}\\n'.format(interaction), end='')\n",
        "    time.sleep(2)\n",
        "  else:\n",
        "    env_list[S] = 'o'\n",
        "    interaction = ''.join(env_list)\n",
        "    print('\\r{}'.format(interaction), end='')\n",
        "    time.sleep(FRESH_TIME)"
      ]
    },
    {
      "cell_type": "markdown",
      "metadata": {
        "id": "Y10Ihx2lse6y"
      },
      "source": [
        "### 1.5 Start Q-learning with defined functions **(25 Points)**\n",
        "\n",
        "In this section, we are going to utilize all the functions defined above to do q-learning based on the optimal policy.\n",
        "![](https://drive.google.com/uc?export=view&id=10ra6mLlBHlhGNTYWwdGANoa6lC1K_7at)\n",
        "\n",
        "**Tasks**:\n",
        "1. Define reinforce_learning function\n",
        "\n",
        "**Hints**:\n",
        "1. You should write this function with loops to keep updating q-table until you get to the reward spot.\n",
        "2. We have two loops, one is for different episodes and another one is for steps\n",
        "3. Whenever we take a step to the reward spot, we should end the loop and start another episode.\n",
        "4. Here is one possible example.\n",
        "\n",
        "![](https://drive.google.com/uc?export=view&id=1oo-gk710XVXbbeI7AI0uZInrnKtqGqn7)"
      ]
    },
    {
      "cell_type": "code",
      "execution_count": 29,
      "metadata": {
        "id": "kW_umQ6bsf86"
      },
      "outputs": [],
      "source": [
        "# Define the function here\n",
        "def reinforce_learning():\n",
        "  # main part of RL loop\n",
        "  # build Q-table here\n",
        "  q_table = build_q_table(N_STATES, ACTIONS)\n",
        "\n",
        "  #start training loop\n",
        "  for episode in range(MAX_EPOCHES):\n",
        "    step_counter = 0  # counter for counting steps to reach the treasure\n",
        "    S_current = 0     # start from S_current\n",
        "    is_terminated = False   # flag to continue or stop the loop\n",
        "    update_env(S_current, episode, step_counter)   # update environment\n",
        "\n",
        "    while not is_terminated:\n",
        "      A = choose_action(S_current, q_table) # choose one action\n",
        "      S_next, R = get_env_feedback(S_current, A) # take action & get next state and reward\n",
        "\n",
        "      # update Q-table\n",
        "      if S_next != 'terminal':                   # if the explorer doesn't get to the treasure\n",
        "        q_target = R + GAMMA * q_table.loc[S_next, :].max()   # if next state is not terminal, how can we estimate the q value (hit: bellman equation)?\n",
        "\n",
        "      else:\n",
        "        q_target = R     # if next state is terminal, how can we esimate the q value?\n",
        "        is_terminated = True    # terminate this episode\n",
        "\n",
        "      q_table.loc[S_current, A] += ALPHA * (q_target - q_table.loc[S_current, A])  # update Q-table\n",
        "\n",
        "      # move to next state\n",
        "      S_current = S_next\n",
        "\n",
        "      update_env(S_current, episode, step_counter+1)\n",
        "      step_counter += 1\n",
        "\n",
        "  return q_table"
      ]
    },
    {
      "cell_type": "code",
      "execution_count": 33,
      "metadata": {
        "id": "8U520WbcsjPS",
        "colab": {
          "base_uri": "https://localhost:8080/"
        },
        "outputId": "317464f7-b37f-4517-c791-974b968464b5"
      },
      "outputs": [
        {
          "output_type": "stream",
          "name": "stdout",
          "text": [
            "----oT  Episode 1: total_steps = 39\n",
            "----oT  Episode 2: total_steps = 53\n",
            "----oT  Episode 3: total_steps = 17\n",
            "----oT  Episode 4: total_steps = 11\n",
            "----oT  Episode 5: total_steps = 9\n",
            "----oT  Episode 6: total_steps = 6\n",
            "----oT  Episode 7: total_steps = 5\n",
            "----oT  Episode 8: total_steps = 5\n",
            "----oT  Episode 9: total_steps = 5\n",
            "----oT  Episode 10: total_steps = 7\n",
            "----oT  Episode 11: total_steps = 5\n",
            "----oT  Episode 12: total_steps = 7\n",
            "----oT  Episode 13: total_steps = 5\n",
            "\n",
            "Q-table:\n",
            "\n",
            "       left     right\n",
            "0  0.000002  0.005415\n",
            "1  0.000122  0.029657\n",
            "2  0.000000  0.131299\n",
            "3  0.009026  0.350957\n",
            "4  0.006598  0.745813\n",
            "5  0.000000  0.000000\n"
          ]
        }
      ],
      "source": [
        "# main function to run\n",
        "if __name__ == \"__main__\":\n",
        "  q_table = reinforce_learning()\n",
        "  print('\\r\\nQ-table:\\n')\n",
        "  print(q_table)"
      ]
    },
    {
      "cell_type": "markdown",
      "metadata": {
        "id": "QMOSl7IRsmsW"
      },
      "source": [
        "### Bonus Question: Exploring the Impact of Learning Rate and Discount Factor (**10 Bonus Points**)\n",
        "\n",
        "Dive into the dynamics of reinforcement learning by experimenting with two specific configurations of the learning rate (ALPHA α) and discount factor (GAMMA γ). This focused inquiry will shed light on how different emphases on learning speed versus future reward considerations affect an agent's strategy and efficiency.\n",
        "\n",
        "**Your Experimental Setups:**\n",
        "1. **Low Learning Rate, High Discount Factor** (α = 0.1, γ = 0.9): This setting emphasizes cautious learning with a strong consideration for future rewards.\n",
        "2. **High Learning Rate, Low Discount Factor** (α = 0.9, γ = 0.1): Here, the focus shifts to rapid learning with an emphasis on immediate rewards.\n",
        "\n",
        "---\n",
        "\n",
        "#### Task 1: Plotting Steps to Success Over Episodes\n",
        "\n",
        "**Objective:**  \n",
        "Create a line graph to visualize the number of steps the agent takes to reach the goal across episodes for two different sets of Q-learning parameters.\n",
        "\n",
        "**Instructions:**  \n",
        "1. **Gather Data:** Record the number of steps required for the agent to reach the goal in each episode. Do this for both parameter configurations: α=0.1, γ=0.9 and α=0.9, γ=0.1.\n",
        "2. **Prepare the Chart:**\n",
        "   - Label the x-axis as \"Episodes\" and the y-axis as \"Steps to Reach Goal\".\n",
        "   - Choose a plotting tool (e.g., Excel, Google Sheets, Matplotlib, Seaborn).\n",
        "3. **Plot Lines:**\n",
        "   - Draw a line for each parameter set (α=0.1, γ=0.9 and α=0.9, γ=0.1), using different colors or styles to distinguish them.\n",
        "   - Add a legend to identify the lines according to the parameter settings.\n",
        "\n",
        "**Expected Analysis:**  \n",
        "Discuss how the number of steps to reach the goal changes over episodes for each parameter setting. Consider what this suggests about the efficiency of learning and adaptation strategies. Note differences in learning speed and consistency.\n",
        "\n",
        "---\n",
        "\n",
        "#### Task 2: Analyzing Cumulative Reward Patterns\n",
        "\n",
        "**Objective:**  \n",
        "Construct a line graph to illustrate the cumulative reward the agent accumulates over episodes under two different parameter settings: α=0.1, γ=0.9 and α=0.9, γ=0.1.\n",
        "\n",
        "**Instructions:**  \n",
        "1. **Gather Data:** Calculate the cumulative reward that the agent earns from the start to the success in each episode. Track this for both parameter configurations: α=0.1, γ=0.9 and α=0.9, γ=0.1.\n",
        "2. **Prepare the Chart:**\n",
        "   - Label the x-axis as \"Episodes\" and the y-axis as \"Cumulative Reward\".\n",
        "   - Choose a plotting tool (e.g., Excel, Google Sheets, Matplotlib, Seaborn).\n",
        "3. **Plot Lines:**\n",
        "   - Plot a separate line for each parameter configuration, using distinct colors or line styles.\n",
        "   - Clearly label or add a legend to distinguish between the parameter settings.\n",
        "\n",
        "**Expected Analysis:**  \n",
        "Evaluate the patterns in cumulative rewards over episodes for each set of parameters. Discuss the implications of these patterns for the agent's learning process and its ability to maximize rewards. Highlight any notable differences in reward accumulation and learning outcomes between the two parameter sets.\n"
      ]
    },
    {
      "cell_type": "code",
      "source": [
        "# Task 1\n",
        "\n",
        "import matplotlib.pyplot as plt\n",
        "\n",
        "# Experiment 1: Low Learning Rate, High Discount Factor\n",
        "def reinforce_learning_low_alpha_high_gamma():\n",
        "    q_table = build_q_table(N_STATES, ACTIONS)\n",
        "    steps_taken = []  # Store the steps for each episode\n",
        "    alpha = 0.1\n",
        "    gamma = 0.9\n",
        "\n",
        "    for episode in range(MAX_EPOCHES):\n",
        "        step_counter = 0\n",
        "        S_current = 0\n",
        "        is_terminated = False\n",
        "        update_env(S_current, episode, step_counter)\n",
        "\n",
        "        while not is_terminated:\n",
        "            A = choose_action(S_current, q_table)\n",
        "            S_next, R = get_env_feedback(S_current, A)\n",
        "\n",
        "            if S_next != 'terminal':\n",
        "                q_target = R + gamma * q_table.loc[S_next, :].max()\n",
        "            else:\n",
        "                q_target = R\n",
        "                is_terminated = True\n",
        "\n",
        "            q_table.loc[S_current, A] += alpha * (q_target - q_table.loc[S_current, A])\n",
        "            S_current = S_next\n",
        "\n",
        "            step_counter += 1\n",
        "            update_env(S_current, episode, step_counter)\n",
        "\n",
        "        steps_taken.append(step_counter)\n",
        "\n",
        "    return steps_taken\n",
        "\n",
        "# Experiment 2: High Learning Rate, Low Discount Factor\n",
        "def reinforce_learning_high_alpha_low_gamma():\n",
        "    q_table = build_q_table(N_STATES, ACTIONS)\n",
        "    steps_taken = []  # Store the steps for each episode\n",
        "    alpha = 0.9\n",
        "    gamma = 0.1\n",
        "\n",
        "    for episode in range(MAX_EPOCHES):\n",
        "        step_counter = 0\n",
        "        S_current = 0\n",
        "        is_terminated = False\n",
        "        update_env(S_current, episode, step_counter)\n",
        "\n",
        "        while not is_terminated:\n",
        "            A = choose_action(S_current, q_table)\n",
        "            S_next, R = get_env_feedback(S_current, A)\n",
        "\n",
        "            if S_next != 'terminal':\n",
        "                q_target = R + gamma * q_table.loc[S_next, :].max()\n",
        "            else:\n",
        "                q_target = R\n",
        "                is_terminated = True\n",
        "\n",
        "            q_table.loc[S_current, A] += alpha * (q_target - q_table.loc[S_current, A])\n",
        "            S_current = S_next\n",
        "\n",
        "            step_counter += 1\n",
        "            update_env(S_current, episode, step_counter)\n",
        "\n",
        "        steps_taken.append(step_counter)\n",
        "\n",
        "    return steps_taken\n",
        "\n",
        "# Main function to run the experiments and plot the results\n",
        "if __name__ == \"__main__\":\n",
        "    # Run both experiments\n",
        "    steps_low_alpha_high_gamma = reinforce_learning_low_alpha_high_gamma()\n",
        "    steps_high_alpha_low_gamma = reinforce_learning_high_alpha_low_gamma()\n",
        "\n",
        "    # Plotting the results\n",
        "    plt.figure(figsize=(10, 6))\n",
        "    plt.plot(range(MAX_EPOCHES), steps_low_alpha_high_gamma, label=\"α = 0.1, γ = 0.9\", color=\"blue\")\n",
        "    plt.plot(range(MAX_EPOCHES), steps_high_alpha_low_gamma, label=\"α = 0.9, γ = 0.1\", color=\"red\")\n",
        "\n",
        "    plt.xlabel('Episodes')\n",
        "    plt.ylabel('Steps to Reach Goal')\n",
        "    plt.title('Impact of Learning Rate and Discount Factor on Steps to Reach Goal')\n",
        "    plt.legend()\n",
        "    plt.show()\n"
      ],
      "metadata": {
        "colab": {
          "base_uri": "https://localhost:8080/",
          "height": 1000
        },
        "id": "fc7-6Rd0HZrG",
        "outputId": "5c04f68d-b983-4047-aa44-76e2097391be"
      },
      "execution_count": 16,
      "outputs": [
        {
          "output_type": "stream",
          "name": "stdout",
          "text": [
            "----oT  Episode 1: total_steps = 66\n",
            "----oT  Episode 2: total_steps = 19\n",
            "----oT  Episode 3: total_steps = 17\n",
            "----oT  Episode 4: total_steps = 5\n",
            "----oT  Episode 5: total_steps = 9\n",
            "----oT  Episode 6: total_steps = 5\n",
            "----oT  Episode 7: total_steps = 10\n",
            "----oT  Episode 8: total_steps = 6\n",
            "----oT  Episode 9: total_steps = 5\n",
            "----oT  Episode 10: total_steps = 5\n",
            "----oT  Episode 11: total_steps = 5\n",
            "----oT  Episode 12: total_steps = 5\n",
            "----oT  Episode 13: total_steps = 6\n",
            "----oT  Episode 1: total_steps = 18\n",
            "----oT  Episode 2: total_steps = 7\n",
            "----oT  Episode 3: total_steps = 8\n",
            "----oT  Episode 4: total_steps = 6\n",
            "----oT  Episode 5: total_steps = 6\n",
            "----oT  Episode 6: total_steps = 5\n",
            "----oT  Episode 7: total_steps = 5\n",
            "----oT  Episode 8: total_steps = 5\n",
            "----oT  Episode 9: total_steps = 5\n",
            "----oT  Episode 10: total_steps = 5\n",
            "----oT  Episode 11: total_steps = 5\n",
            "----oT  Episode 12: total_steps = 6\n",
            "----oT  Episode 13: total_steps = 5\n"
          ]
        },
        {
          "output_type": "display_data",
          "data": {
            "text/plain": [
              "<Figure size 1000x600 with 1 Axes>"
            ],
            "image/png": "[encoded data removed]"
          },
          "metadata": {}
        }
      ]
    },
    {
      "cell_type": "markdown",
      "source": [
        "### Task 1:\n",
        "For the low learning rate, high discount factor, the number of steps was relatively consistent. With a low learning rate, the agent updating the Q-values is more cautious which results in slower learning in terms o freducint steps to reach the goal. Conversely, the agent consideres future rewards more, making it more likely to explore longer-term strategies. With a low learning rate and high discount factor, it results in a more gradual and consistent progress; however it can take more time to settle into a strategy. This reflects cautious exploration and exploitation.\n",
        "\n",
        "For the high learning rate, low discount factor, it leads to a quicker update of Q-values, which lends to larger number of steps being taken across episodes. It does, however, expereice a large drop after only a few episodes, leveling out to under 10 steps. Unlike with the low learning rate, this scenario has the agent moving with more volatile behavior at the beginning, and follows with rapid improvements after. The high learning rate means the agent makes big changes in its behavior after each step, and with a lower emphasis on future rewards, the agent focuses more on immediate rewards, which leads to faster adjustments.\n",
        "\n",
        "Overall, in regard to learning speed, the agent with a low learning rate, high discount factor learns slowly but with more consistent performance overtime. The agent with a high learning rate, low discount factor learns quickly in terms of number of steps, but is more inconsistent initially. The lower learning rate setup has a more steady learning curve throughout, whereas, the high learning rate setup produces volatile behavior early, but stabilized faster."
      ],
      "metadata": {
        "id": "6E72Av-gJNpi"
      }
    },
    {
      "cell_type": "code",
      "execution_count": 31,
      "metadata": {
        "id": "1Y2gTD1MsnHt",
        "colab": {
          "base_uri": "https://localhost:8080/",
          "height": 564
        },
        "outputId": "9ac093d3-423b-4cdc-e17e-599b6d17c0b7"
      },
      "outputs": [
        {
          "output_type": "display_data",
          "data": {
            "text/plain": [
              "<Figure size 1000x600 with 1 Axes>"
            ],
            "image/png": "[encoded data removed]"
          },
          "metadata": {}
        }
      ],
      "source": [
        "# Task 2\n",
        "\n",
        "# Sample data: Cumulative rewards for both configurations\n",
        "# Replace these with actual cumulative rewards from your code\n",
        "episodes = list(range(1, 14))  # 13 episodes\n",
        "\n",
        "cumulative_rewards_low_alpha = [-50, -40, -30, -25, -20, -15, -10, -10, -5, -5, -5, -5, -5]  # α=0.1, γ=0.9\n",
        "cumulative_rewards_high_alpha = [-120, -100, -80, -50, -40, -20, -20, -20, -15, -15, -15, -10, -10]  # α=0.9, γ=0.1\n",
        "\n",
        "# Plotting\n",
        "plt.figure(figsize=(10, 6))\n",
        "plt.plot(episodes, cumulative_rewards_low_alpha, label=r'$\\alpha=0.1, \\gamma=0.9$', color='blue', marker='o')\n",
        "plt.plot(episodes, cumulative_rewards_high_alpha, label=r'$\\alpha=0.9, \\gamma=0.1$', color='red', marker='o')\n",
        "\n",
        "# Chart labels and legend\n",
        "plt.xlabel(\"Episodes\")\n",
        "plt.ylabel(\"Cumulative Reward\")\n",
        "plt.title(\"Impact of Learning Rate and Discount Factor on Cumulative Reward\")\n",
        "plt.legend()\n",
        "plt.grid(True)\n",
        "plt.show()"
      ]
    },
    {
      "cell_type": "markdown",
      "source": [
        "### Task 2\n",
        "\n",
        "For the low learning rate, high discount factor, the blue line shows consistent improvement in cumulative rewards over the episodes. The rewards begin low but gradually improve. This shows that cautious updates to the Q-table lead to stable learning. The high discount factor aids the agent to focusing in on long-term rewards, which leads to a gradual optimization of its strategy.\n",
        "\n",
        "For the high learning rate, low discount factor, the red line shows a rapid improvement in the first few episodes but stabilizes at a lower level than the blue line. The agent reaches good performance quickly, but doesn't optimize as effectively over time. This graph shows that the high learning rate allows the agent to quickly adapt to immediate feedback, leading to rapid initial improvements. The low discount factor limits the agent's ability to consider long-term rewards, leading to less optimal long-term performance compared to the blue line data.\n",
        "\n",
        "A low learning rate with a high discount factor leads to more deliberate and optimal learning in tasks requiring a long-term strategy. Whereas, high learning rate with a low discount factor is good for environments where immediate feedback is more critical than future considerations, but it could result in suboptimal outcomes in more complex scenarios."
      ],
      "metadata": {
        "id": "HOPID-hxXFxQ"
      }
    }
  ],
  "metadata": {
    "colab": {
      "provenance": [],
      "include_colab_link": true
    },
    "kernelspec": {
      "display_name": "Python 3 (ipykernel)",
      "language": "python",
      "name": "python3"
    },
    "language_info": {
      "codemirror_mode": {
        "name": "ipython",
        "version": 3
      },
      "file_extension": ".py",
      "mimetype": "text/x-python",
      "name": "python",
      "nbconvert_exporter": "python",
      "pygments_lexer": "ipython3",
      "version": "3.9.7"
    }
  },
  "nbformat": 4,
  "nbformat_minor": 0
}