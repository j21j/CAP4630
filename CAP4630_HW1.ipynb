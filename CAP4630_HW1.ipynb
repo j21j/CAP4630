{
  "nbformat": 4,
  "nbformat_minor": 0,
  "metadata": {
    "colab": {
      "provenance": [],
      "authorship_tag": "ABX9TyNjRmO4yNFgNzuYsH8TiDex",
      "include_colab_link": true
    },
    "kernelspec": {
      "name": "python3",
      "display_name": "Python 3"
    },
    "language_info": {
      "name": "python"
    }
  },
  "cells": [
    {
      "cell_type": "markdown",
      "metadata": {
        "id": "view-in-github",
        "colab_type": "text"
      },
      "source": [
        "<a href=\"https://colab.research.google.com/github/j21j/CAP4630/blob/main/CAP4630_HW1.ipynb\" target=\"_parent\"><img src=\"https://colab.research.google.com/assets/colab-badge.svg\" alt=\"Open In Colab\"/></a>"
      ]
    },
    {
      "cell_type": "markdown",
      "source": [
        "## 1 - Packages ##\n",
        "\n",
        "Import useful packages for scientific computing and data processing. **(5 Points)**\n",
        "\n",
        "**Tasks:**\n",
        "1. Import numpy and rename it to np.\n",
        "2. Import pandas and rename it to pd.\n",
        "3. Import the pyplot function in the libraray of matplotlib and rename it to plt.\n",
        "\n",
        "References:\n",
        "- [numpy](www.numpy.org) is the fundamental package for scientific computing with Python.\n",
        "- [matplotlib](http://matplotlib.org) is a famous library to plot graphs in Python.\n",
        "\n",
        "**Attention:**\n",
        "1. After this renaming, you will use the new name to call functions. For example, **numpy** will become **np** in the following sections."
      ],
      "metadata": {
        "id": "m6EfeVyGXFJw"
      }
    },
    {
      "cell_type": "code",
      "execution_count": 1,
      "metadata": {
        "id": "sTEtryXZfiR2"
      },
      "outputs": [],
      "source": [
        "# 1 - Packages: code\n",
        "import numpy as np\n",
        "import pandas as pd\n",
        "import matplotlib.pyplot as plt"
      ]
    },
    {
      "cell_type": "markdown",
      "source": [
        "## 2 - Data Preparation ##\n",
        "\n",
        "Prepare the data for regression task. **(10 Points)**\n",
        "\n",
        "**Tasks:**\n",
        "1. Load data for nonlinear regression.\n",
        "2. Generate the scatter plot of the data.\n",
        "\n",
        "**Hints:**\n",
        "1. The data file is \"data_nonlinear.csv\".\n",
        "2. The data format is as follows: 1st column is X and 2nd column is Y."
      ],
      "metadata": {
        "id": "_0BhAoGyW7AY"
      }
    },
    {
      "cell_type": "code",
      "source": [
        "# 2 - Data Preparation"
      ],
      "metadata": {
        "id": "Sn7AJKKHWhAr"
      },
      "execution_count": null,
      "outputs": []
    }
  ]
}